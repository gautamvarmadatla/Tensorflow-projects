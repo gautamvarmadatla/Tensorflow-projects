{
  "nbformat": 4,
  "nbformat_minor": 0,
  "metadata": {
    "colab": {
      "provenance": []
    },
    "kernelspec": {
      "name": "python3",
      "display_name": "Python 3"
    },
    "language_info": {
      "name": "python"
    }
  },
  "cells": [
    {
      "cell_type": "code",
      "execution_count": null,
      "metadata": {
        "id": "CpBq6XwIHT4h"
      },
      "outputs": [],
      "source": [
        "# Python ≥3.5 is required\n",
        "import sys\n",
        "assert sys.version_info >= (3, 5)\n",
        "\n",
        "# Scikit-Learn ≥0.20 is required\n",
        "import sklearn\n",
        "assert sklearn.__version__ >= \"0.20\"\n",
        "\n",
        "import tensorflow as tf\n",
        "assert tf.__version__ >= \"2.0\"\n"
      ]
    },
    {
      "cell_type": "markdown",
      "source": [
        "# **Validation accuracy of 89% while hyper parameter tuning and 86.3% when used on actual test set **"
      ],
      "metadata": {
        "id": "8R0lAXWJYUGS"
      }
    },
    {
      "cell_type": "code",
      "source": [
        "import tensorflow as tf\n",
        "from tensorflow import keras\n",
        "from sklearn.model_selection import train_test_split\n",
        "from sklearn import preprocessing\n",
        "import numpy as np \n",
        "import keras_tuner as kt\n",
        "import pandas as pd\n",
        "\n",
        "fashion_mnist = keras.datasets.fashion_mnist\n",
        "(X_train_full, y_train_full), (X_test, y_test) = fashion_mnist.load_data()\n",
        "X_train_full = X_train_full.astype('float32') / 255.0\n",
        "X_test = X_test.astype('float32') / 255.0\n",
        "X_train, X_valid, y_train, y_valid = train_test_split(X_train_full, y_train_full, random_state=42 , test_size = 0.3)\n"
      ],
      "metadata": {
        "id": "U-x1jsUmHsHG"
      },
      "execution_count": null,
      "outputs": []
    },
    {
      "cell_type": "code",
      "source": [
        "import keras_tuner as kt\n",
        "def build_model(hp):\n",
        "    model = keras.Sequential()\n",
        "    model.add(keras.layers.Flatten(input_shape=(28,28)))\n",
        "    for i in range(1, hp.Int(\"num_layers\", 2, 4)):\n",
        "        model.add(keras.layers.Dense(units=hp.Int(\"layer_\"+str(i)+\"_neurons\" , min_value=32, max_value=512, step=32) , activation=\"relu\", kernel_initializer=\"HeNormal\"))\n",
        "\n",
        "    model.add(keras.layers.Dropout(rate=0.02))\n",
        "    model.add(keras.layers.Dense(units=10, activation=\"softmax\"))\n",
        "    learning_rates = hp.Choice('learning_rate', values=[1e-2, 1e-3])\n",
        "    model.compile(optimizer=keras.optimizers.Adam(learning_rate = learning_rates),\n",
        "                loss=keras.losses.SparseCategoricalCrossentropy(from_logits=True),\n",
        "                metrics=['accuracy'])\n",
        "    return model"
      ],
      "metadata": {
        "id": "EbW8EzPXIVIX"
      },
      "execution_count": null,
      "outputs": []
    },
    {
      "cell_type": "code",
      "source": [
        "tf.keras.backend.clear_session()"
      ],
      "metadata": {
        "id": "pUd4c_boryxu"
      },
      "execution_count": null,
      "outputs": []
    },
    {
      "cell_type": "code",
      "source": [
        "\n",
        "early_stopping = tf.keras.callbacks.EarlyStopping(monitor='val_loss', patience=3)\n",
        "tuner = kt.Hyperband(build_model, objective='val_accuracy', max_epochs=10, factor=3 ,directory='my_dir', project_name='hw_ix')\n",
        "\n",
        "\n",
        "tuner.search(X_train, y_train , epochs=50, validation_split=0.2, callbacks=[early_stopping])"
      ],
      "metadata": {
        "colab": {
          "base_uri": "https://localhost:8080/"
        },
        "id": "rZdnCw-6dHX7",
        "outputId": "b5d6630a-e8aa-4584-a43c-bdd345d7a026"
      },
      "execution_count": null,
      "outputs": [
        {
          "output_type": "stream",
          "name": "stdout",
          "text": [
            "Trial 30 Complete [00h 01m 36s]\n",
            "val_accuracy: 0.8893749713897705\n",
            "\n",
            "Best val_accuracy So Far: 0.89041668176651\n",
            "Total elapsed time: 00h 15m 19s\n"
          ]
        }
      ]
    },
    {
      "cell_type": "code",
      "source": [
        "best_hps=tuner.get_best_hyperparameters(num_trials=1)[0]\n",
        "model = tuner.hypermodel.build(best_hps)\n",
        "history = model.fit(X_valid, y_valid, epochs=25, validation_split=0.2)\n",
        "\n",
        "val_acc_per_epoch = history.history['val_accuracy']\n",
        "best_epoch = val_acc_per_epoch.index(max(val_acc_per_epoch)) + 1\n",
        "\n",
        "model.summary()"
      ],
      "metadata": {
        "colab": {
          "base_uri": "https://localhost:8080/"
        },
        "id": "FWjELDBexx3g",
        "outputId": "ea105565-980f-43c3-fa76-605621bde218"
      },
      "execution_count": null,
      "outputs": [
        {
          "output_type": "stream",
          "name": "stdout",
          "text": [
            "Epoch 1/25\n",
            "450/450 [==============================] - 3s 6ms/step - loss: 0.6196 - accuracy: 0.7813 - val_loss: 0.4582 - val_accuracy: 0.8450\n",
            "Epoch 2/25\n",
            "450/450 [==============================] - 2s 5ms/step - loss: 0.4413 - accuracy: 0.8414 - val_loss: 0.4435 - val_accuracy: 0.8522\n",
            "Epoch 3/25\n",
            "450/450 [==============================] - 2s 5ms/step - loss: 0.3925 - accuracy: 0.8557 - val_loss: 0.4086 - val_accuracy: 0.8569\n",
            "Epoch 4/25\n",
            "450/450 [==============================] - 2s 5ms/step - loss: 0.3546 - accuracy: 0.8714 - val_loss: 0.3745 - val_accuracy: 0.8650\n",
            "Epoch 5/25\n",
            "450/450 [==============================] - 2s 5ms/step - loss: 0.3330 - accuracy: 0.8759 - val_loss: 0.3753 - val_accuracy: 0.8725\n",
            "Epoch 6/25\n",
            "450/450 [==============================] - 3s 7ms/step - loss: 0.3130 - accuracy: 0.8835 - val_loss: 0.3602 - val_accuracy: 0.8747\n",
            "Epoch 7/25\n",
            "450/450 [==============================] - 3s 6ms/step - loss: 0.2960 - accuracy: 0.8890 - val_loss: 0.3688 - val_accuracy: 0.8708\n",
            "Epoch 8/25\n",
            "450/450 [==============================] - 2s 5ms/step - loss: 0.2758 - accuracy: 0.8962 - val_loss: 0.3728 - val_accuracy: 0.8697\n",
            "Epoch 9/25\n",
            "450/450 [==============================] - 2s 5ms/step - loss: 0.2668 - accuracy: 0.8977 - val_loss: 0.3900 - val_accuracy: 0.8603\n",
            "Epoch 10/25\n",
            "450/450 [==============================] - 2s 5ms/step - loss: 0.2523 - accuracy: 0.9014 - val_loss: 0.3813 - val_accuracy: 0.8817\n",
            "Epoch 11/25\n",
            "450/450 [==============================] - 2s 5ms/step - loss: 0.2381 - accuracy: 0.9080 - val_loss: 0.4012 - val_accuracy: 0.8664\n",
            "Epoch 12/25\n",
            "450/450 [==============================] - 2s 5ms/step - loss: 0.2294 - accuracy: 0.9144 - val_loss: 0.4023 - val_accuracy: 0.8778\n",
            "Epoch 13/25\n",
            "450/450 [==============================] - 2s 5ms/step - loss: 0.2323 - accuracy: 0.9112 - val_loss: 0.4534 - val_accuracy: 0.8528\n",
            "Epoch 14/25\n",
            "450/450 [==============================] - 2s 5ms/step - loss: 0.2110 - accuracy: 0.9201 - val_loss: 0.3964 - val_accuracy: 0.8714\n",
            "Epoch 15/25\n",
            "450/450 [==============================] - 2s 5ms/step - loss: 0.2035 - accuracy: 0.9212 - val_loss: 0.4072 - val_accuracy: 0.8700\n",
            "Epoch 16/25\n",
            "450/450 [==============================] - 2s 5ms/step - loss: 0.2031 - accuracy: 0.9215 - val_loss: 0.4402 - val_accuracy: 0.8661\n",
            "Epoch 17/25\n",
            "450/450 [==============================] - 2s 5ms/step - loss: 0.1894 - accuracy: 0.9289 - val_loss: 0.4048 - val_accuracy: 0.8822\n",
            "Epoch 18/25\n",
            "450/450 [==============================] - 2s 5ms/step - loss: 0.1804 - accuracy: 0.9302 - val_loss: 0.4009 - val_accuracy: 0.8681\n",
            "Epoch 19/25\n",
            "450/450 [==============================] - 2s 5ms/step - loss: 0.1713 - accuracy: 0.9341 - val_loss: 0.4397 - val_accuracy: 0.8767\n",
            "Epoch 20/25\n",
            "450/450 [==============================] - 2s 5ms/step - loss: 0.1615 - accuracy: 0.9378 - val_loss: 0.4545 - val_accuracy: 0.8669\n",
            "Epoch 21/25\n",
            "450/450 [==============================] - 2s 5ms/step - loss: 0.1561 - accuracy: 0.9397 - val_loss: 0.4402 - val_accuracy: 0.8792\n",
            "Epoch 22/25\n",
            "450/450 [==============================] - 2s 5ms/step - loss: 0.1606 - accuracy: 0.9374 - val_loss: 0.4116 - val_accuracy: 0.8831\n",
            "Epoch 23/25\n",
            "450/450 [==============================] - 2s 5ms/step - loss: 0.1439 - accuracy: 0.9465 - val_loss: 0.4227 - val_accuracy: 0.8853\n",
            "Epoch 24/25\n",
            "450/450 [==============================] - 2s 5ms/step - loss: 0.1371 - accuracy: 0.9464 - val_loss: 0.5120 - val_accuracy: 0.8731\n",
            "Epoch 25/25\n",
            "450/450 [==============================] - 2s 6ms/step - loss: 0.1281 - accuracy: 0.9492 - val_loss: 0.4704 - val_accuracy: 0.8800\n",
            "Model: \"sequential_7\"\n",
            "_________________________________________________________________\n",
            " Layer (type)                Output Shape              Param #   \n",
            "=================================================================\n",
            " flatten_7 (Flatten)         (None, 784)               0         \n",
            "                                                                 \n",
            " dense_21 (Dense)            (None, 384)               301440    \n",
            "                                                                 \n",
            " dense_22 (Dense)            (None, 192)               73920     \n",
            "                                                                 \n",
            " dropout_7 (Dropout)         (None, 192)               0         \n",
            "                                                                 \n",
            " dense_23 (Dense)            (None, 10)                1930      \n",
            "                                                                 \n",
            "=================================================================\n",
            "Total params: 377,290\n",
            "Trainable params: 377,290\n",
            "Non-trainable params: 0\n",
            "_________________________________________________________________\n"
          ]
        }
      ]
    },
    {
      "cell_type": "code",
      "source": [
        "import matplotlib.pyplot as plt\n",
        "pd.DataFrame(history.history).plot(figsize=(8, 5))\n",
        "plt.grid(True)\n",
        "plt.show()\n",
        "\t\n",
        "model_score = model.evaluate(X_test, y_test, verbose=1)\n",
        "print('Test loss:', model_score[0])\n",
        "print('Test accuracy:', model_score[1])"
      ],
      "metadata": {
        "colab": {
          "base_uri": "https://localhost:8080/",
          "height": 372
        },
        "id": "93IQPT5hGOfI",
        "outputId": "f8f0055f-80fe-4893-c8a2-1f666edf702a"
      },
      "execution_count": null,
      "outputs": [
        {
          "output_type": "display_data",
          "data": {
            "text/plain": [
              "<Figure size 576x360 with 1 Axes>"
            ],
            "image/png": "[encoded data removed]"
          },
          "metadata": {
            "needs_background": "light"
          }
        },
        {
          "output_type": "stream",
          "name": "stdout",
          "text": [
            "313/313 [==============================] - 1s 3ms/step - loss: 0.5432 - accuracy: 0.8631\n",
            "Test loss: 0.543236494064331\n",
            "Test accuracy: 0.863099992275238\n"
          ]
        }
      ]
    }
  ]
}
